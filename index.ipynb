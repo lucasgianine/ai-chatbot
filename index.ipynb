{
 "cells": [
  {
   "cell_type": "markdown",
   "metadata": {},
   "source": [
    "## 🤖 Criando um agente conversacional"
   ]
  },
  {
   "cell_type": "markdown",
   "metadata": {},
   "source": [
    "Instalando as bibliotecas de LangChain:"
   ]
  },
  {
   "cell_type": "code",
   "execution_count": null,
   "metadata": {},
   "outputs": [],
   "source": [
    "%pip install langchain==0.3.0\n",
    "%pip install langchain-groq==0.2.0\n",
    "%pip install langchain-community==0.3.0\n",
    "%pip install youtube_transcript_api==0.6.2\n",
    "%pip install pypdf==5.0.0"
   ]
  },
  {
   "cell_type": "markdown",
   "metadata": {},
   "source": [
    "Importando bibliotecas LangChain e configurando chave de API do modelo Groq:"
   ]
  },
  {
   "cell_type": "code",
   "execution_count": null,
   "metadata": {},
   "outputs": [],
   "source": [
    "import os\n",
    "from langchain_groq import ChatGroq\n",
    "\n",
    "api_key = 'YOUR_GROQ_API_KEY'\n",
    "os.environ['GROQ_API_KEY'] = api_key\n",
    "chat = ChatGroq(model='GROQ_MODEL')"
   ]
  },
  {
   "cell_type": "markdown",
   "metadata": {},
   "source": [
    "Criando chain e função de resposta aplicando templates para o modelo de IA:"
   ]
  },
  {
   "cell_type": "code",
   "execution_count": null,
   "metadata": {},
   "outputs": [],
   "source": [
    "from langchain.prompts import ChatPromptTemplate\n",
    "\n",
    "def response_bot(messages, documents):\n",
    "  system_prompt = '''Você é um assistente amigável chamado Asimo.\n",
    "  Você utiliza as seguintes informações para formular as suas respostas:\n",
    "  {documents}'''\n",
    "\n",
    "  model_message = [('system', system_prompt)]\n",
    "  model_message += messages\n",
    "\n",
    "  template = ChatPromptTemplate.from_messages(model_message)\n",
    "\n",
    "  chain = template | chat\n",
    "  return chain.invoke({'documents': documents}).content"
   ]
  },
  {
   "cell_type": "markdown",
   "metadata": {},
   "source": [
    "Criando funções que vão servir para obter informações necessárias para contextualização que nossa IA irá trabalhar:"
   ]
  },
  {
   "cell_type": "code",
   "execution_count": null,
   "metadata": {},
   "outputs": [],
   "source": [
    "from langchain_community.document_loaders import WebBaseLoader, YoutubeLoader, PyPDFLoader\n",
    "\n",
    "def load_website_content():\n",
    "  url = input('🔗 Insira a URL do website: ')\n",
    "\n",
    "  if ('http' not in url):\n",
    "    print ('URL inválida. Por favor, insira uma URL válida.')\n",
    "    load_website_content()\n",
    "\n",
    "  loader = WebBaseLoader(url)\n",
    "  pages_content = loader.load()\n",
    "\n",
    "  all_content = ''\n",
    "  for doc in pages_content:\n",
    "    all_content += doc.page_content\n",
    "\n",
    "  return all_content\n",
    "\n",
    "def load_pdf_content():\n",
    "  path = 'PDF_PATH'\n",
    "  loader = PyPDFLoader(path)\n",
    "  pages_content = loader.load()\n",
    "\n",
    "  all_content = ''\n",
    "  for doc in pages_content:\n",
    "    all_content += doc.page_content\n",
    "  \n",
    "  return all_content\n",
    "\n",
    "def load_youtube_content():\n",
    "  url = input('🔗 Insira a URL de um vídeo (Youtube): ')\n",
    "\n",
    "  if ('youtube' not in url):\n",
    "    print ('URL inválida. Por favor, insira uma URL válida.')\n",
    "    load_youtube_content()\n",
    "\n",
    "  loader = YoutubeLoader.from_youtube_url(url, language=['pt'])\n",
    "  pages_content = loader.load()\n",
    "\n",
    "  all_content = ''\n",
    "  for doc in pages_content:\n",
    "    all_content += doc.page_content\n",
    "  \n",
    "  return all_content"
   ]
  },
  {
   "cell_type": "markdown",
   "metadata": {},
   "source": [
    "Desenvolvendo seção para dar ao usuário o poder de escolher com quais documentos ele vai querer que o chatbot se baseia:"
   ]
  },
  {
   "cell_type": "code",
   "execution_count": null,
   "metadata": {},
   "outputs": [],
   "source": [
    "username = input('Digite o seu nome: ')\n",
    "\n",
    "init_text = f'''Olá, {username}! Vamos começar a conversar?\n",
    "\n",
    "Escolha uma das opções abaixo:\n",
    "1. Conversar com contexto de um site\n",
    "2. Conversar com contexto de um PDF\n",
    "3. Conversar com contexto de um vídeo de Youtube\n",
    "x. Sair\n",
    "\n",
    "{username}: '''\n",
    "\n",
    "while True:\n",
    "  user_choice = input(init_text)\n",
    "  if user_choice == '1':\n",
    "    document = load_website_content()\n",
    "    break\n",
    "  elif user_choice == '2':\n",
    "    document = load_pdf_content()\n",
    "    break\n",
    "  elif user_choice == '3':\n",
    "    document = load_youtube_content()\n",
    "    break\n",
    "  elif user_choice == 'x':\n",
    "    break\n",
    "  else:\n",
    "    print('Valor incorretor. Tente novamente.') "
   ]
  },
  {
   "cell_type": "markdown",
   "metadata": {},
   "source": [
    "Bloco de código que itera mensagens do usuário e do bot para definir contextualização da conversa:"
   ]
  },
  {
   "cell_type": "code",
   "execution_count": null,
   "metadata": {},
   "outputs": [],
   "source": [
    "messages = []\n",
    "while True:\n",
    "  question = input(f'{username}: ')\n",
    "  if question.lower() == 'x':\n",
    "    break\n",
    "  messages.append(('user', question))\n",
    "  response = response_bot(messages, document)\n",
    "  messages.append(('assistant', response))\n",
    "  print(f'Bot: {response}')\n",
    "\n",
    "print('Espero conversar com você novamente!\\nMuito obrigado por usar o chat!\\n')"
   ]
  }
 ],
 "metadata": {
  "kernelspec": {
   "display_name": "Python 3",
   "language": "python",
   "name": "python3"
  },
  "language_info": {
   "codemirror_mode": {
    "name": "ipython",
    "version": 3
   },
   "file_extension": ".py",
   "mimetype": "text/x-python",
   "name": "python",
   "nbconvert_exporter": "python",
   "pygments_lexer": "ipython3",
   "version": "3.11.9"
  }
 },
 "nbformat": 4,
 "nbformat_minor": 2
}
