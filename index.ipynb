{
 "cells": [
  {
   "cell_type": "markdown",
   "metadata": {},
   "source": [
    "## 🤖 Criando um agente conversacional"
   ]
  },
  {
   "cell_type": "markdown",
   "metadata": {},
   "source": [
    "Instalando as bibliotecas de LangChain:"
   ]
  },
  {
   "cell_type": "code",
   "execution_count": null,
   "metadata": {},
   "outputs": [],
   "source": [
    "%pip install langchain==0.3.0\n",
    "%pip install langchain-groq==0.2.0\n",
    "%pip install langchain-community==0.3.0\n",
    "%pip install youtube_transcript_api==0.6.2\n",
    "%pip install pypdf==5.0.0"
   ]
  },
  {
   "cell_type": "markdown",
   "metadata": {},
   "source": [
    "Importando bibliotecas LangChain e configurando chave de API do modelo Groq:"
   ]
  },
  {
   "cell_type": "code",
   "execution_count": null,
   "metadata": {},
   "outputs": [],
   "source": [
    "import os\n",
    "from langchain_groq import ChatGroq\n",
    "\n",
    "api_key = 'YOUR_GROQ_API_KEY'\n",
    "os.environ['GROQ_API_KEY'] = api_key\n",
    "chat = ChatGroq(model='GROQ_MODEL')"
   ]
  },
  {
   "cell_type": "markdown",
   "metadata": {},
   "source": [
    "Criando chain e função de resposta aplicando templates para o modelo de IA:"
   ]
  },
  {
   "cell_type": "code",
   "execution_count": null,
   "metadata": {},
   "outputs": [],
   "source": [
    "from langchain.prompts import ChatPromptTemplate\n",
    "\n",
    "def response_bot(messages, documents):\n",
    "  system_prompt = '''Você é um assistente amigável chamado Asimo.\n",
    "  Você utiliza as seguintes informações para formular as suas respostas:\n",
    "  {documents}'''\n",
    "\n",
    "  model_message = [('system', system_prompt)]\n",
    "  model_message += messages\n",
    "\n",
    "  template = ChatPromptTemplate.from_messages(model_message)\n",
    "\n",
    "  chain = template | chat\n",
    "  return chain.invoke({'documents': documents}).content"
   ]
  }
 ],
 "metadata": {
  "kernelspec": {
   "display_name": "Python 3",
   "language": "python",
   "name": "python3"
  },
  "language_info": {
   "codemirror_mode": {
    "name": "ipython",
    "version": 3
   },
   "file_extension": ".py",
   "mimetype": "text/x-python",
   "name": "python",
   "nbconvert_exporter": "python",
   "pygments_lexer": "ipython3",
   "version": "3.11.9"
  }
 },
 "nbformat": 4,
 "nbformat_minor": 2
}
